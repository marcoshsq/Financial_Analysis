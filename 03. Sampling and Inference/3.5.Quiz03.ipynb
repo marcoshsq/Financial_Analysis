{
  "nbformat": 4,
  "nbformat_minor": 0,
  "metadata": {
    "colab": {
      "name": "Quiz03.ipynb",
      "provenance": [],
      "collapsed_sections": []
    },
    "kernelspec": {
      "name": "python3",
      "display_name": "Python 3"
    },
    "language_info": {
      "name": "python"
    }
  },
  "cells": [
    {
      "cell_type": "markdown",
      "source": [
        "### Quiz 3\n"
      ],
      "metadata": {
        "id": "XzZLFnEb937a"
      }
    },
    {
      "cell_type": "code",
      "execution_count": null,
      "metadata": {
        "id": "MB5c2proI5y6"
      },
      "outputs": [],
      "source": [
        "Question 1 - What is true about sample and population?\n",
        "# answer: Sample is a subset of population which is randomly draw from population\n",
        "\n",
        "Question 2 - You have a DataFrame called ‘data’ which has only one column ‘population’.\n",
        "\n",
        "data = pd.DataFrame()\n",
        "data[‘population’] = [47, 48, 85, 20, 19, 13, 72, 16, 50, 60]  \n",
        "\n",
        "How to draw sample with sample size =5, from a ‘population’ with replacement?    \n",
        "\n",
        "(Hint: You can modify the code illustrated in the Jupyter Notebook \"Population and Sample\" after Lecture 3.1)\n",
        "# answer: data[‘population’].sample(5, replace=True)\n",
        "\n",
        "Question 3 - Why is the degrees of freedom n-1 in sample variance?\n",
        "# answer: The degrees of freedom in sample variance is constrained by the sample mean\n",
        "\n",
        "Question 4 - What does Central Limit Theorem tell you about the distribution of sample mean?\n",
        "# answer: The distribution of sample mean follows normal distribution with very large sample \n",
        "# size follows normal distribution regardless of the population distribution.\n",
        "\n",
        "Question 5 - Suppose we have 3 independent normal random variables X1, X2 and X3:\n",
        "\n",
        "What is the distribution of X1 + X2 + X3?\n",
        "# answer: Mean and variance of X1, X2 and X3 are added up\n",
        "\n",
        "Question 6 - Why do we need to standardize sample mean when making inference?\n",
        "# answer: The standardized distribution of sample mean follows N(0,1) which is easier to make inference\n",
        "\n",
        "Question 7 - What can a 95% confidence interval of daily return of an investment tell you?\n",
        "# answer: With 95% chance this interval will cover the mean of daily return\n",
        "\n",
        "Question 8 - Check the Juypter notebook of 3.3 Sample and Inference. What is the confidence interval of this exercise?\n",
        "# answer: [-0.000015603, 0.001656]\n",
        "\n",
        "Question 9 - When do you reject a null hypothesis with alternative hypothesis μ>0 with significance level α?\n",
        "# answer: p value is smaller than α;  z < z_(1-α)\n",
        "\n",
        "Question 10 - When doing analysis of stock return, you notice that with 95% confidence interval, \n",
        "the upper bound and lower bound are negative. Base on this data, what can you tell about this stock?\n",
        "# answer: There is 95% chance of which the mean return of this stock is negative"
      ]
    }
  ]
}