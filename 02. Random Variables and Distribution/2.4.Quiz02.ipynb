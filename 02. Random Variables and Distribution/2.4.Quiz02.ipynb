{
  "nbformat": 4,
  "nbformat_minor": 0,
  "metadata": {
    "colab": {
      "name": "Quiz 1.ipynb",
      "provenance": [],
      "collapsed_sections": []
    },
    "kernelspec": {
      "name": "python3",
      "display_name": "Python 3"
    },
    "language_info": {
      "name": "python"
    }
  },
  "cells": [
    {
      "cell_type": "markdown",
      "source": [
        "### Quiz 2\n"
      ],
      "metadata": {
        "id": "XzZLFnEb937a"
      }
    },
    {
      "cell_type": "code",
      "execution_count": null,
      "metadata": {
        "id": "MB5c2proI5y6"
      },
      "outputs": [],
      "source": [
        "Question 01 - Roll two dice and X is the sum of faces values. If we roll \n",
        "them 5 times and get 2,3,4,5,6. Which of the following is/are true about X?\n",
        "# answer: X is a random variable\n",
        "\n",
        "Question 2 - Roll two dice and X is the sum of faces values. If we roll them 5 \n",
        "times and get 2,3,4,5,6 What do we know about X?\n",
        "# answer: We have 5 observations of x\n",
        "\n",
        "Question 3 - Roll two dice and X is the sum of faces values. If we roll them 5 \n",
        "times and get 2,3,4,5,6. X is a ________ random variable.\n",
        "# answer: Discrete\n",
        "\n",
        "Question 4 - Why do we use relative frequency instead of frequency?\n",
        "# answer: Relative frequency can be used to compare the ratio of values between \n",
        "# difference collections with difference number of values\n",
        "\n",
        "Question 5 - What can we say about relative frequency when we have large number of trials?\n",
        "# answer: Relative frequency becomes approximately the distribution of the \n",
        "# corresponding random variable\n",
        "\n",
        "Question 6 - What is the notion of  \"95% Value at Risk\" ?\n",
        "# answer: 95% VaR measures the amount of investment you can lose, at the worst 5% scenario\n",
        "\n",
        "Question 7 - In the lecture video, we mentioned the calculation of continuous \n",
        "random variable is based on the probability density function. \n",
        "Given a probability density function, f(x) = 1/100, what is the probability \n",
        "P(10<X<20), where X~Uniform[0, 100]?\n",
        "# answer: (20- 10) * 1/100\n",
        "\n",
        "Question 8 - What methods should we use to get the cdf and pdf of normal distribution?\n",
        "# answer: norm.cdf() and norm.pdf() from scipy.stats\n",
        "\n",
        "Question 9 - Which additional library should we import when we want to calculate log daily return specifically?\n",
        "# answer: Numpy \n",
        "\n",
        "Question 10 - What is the distribution of stock returns suggested by Fama and French in general?\n",
        "# answer: Close to normal distribution but with fat tail"
      ]
    }
  ]
}