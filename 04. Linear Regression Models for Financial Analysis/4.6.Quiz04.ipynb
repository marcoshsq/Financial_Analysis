{
  "nbformat": 4,
  "nbformat_minor": 0,
  "metadata": {
    "colab": {
      "name": "4.6.Quiz04.ipynb",
      "provenance": [],
      "collapsed_sections": []
    },
    "kernelspec": {
      "name": "python3",
      "display_name": "Python 3"
    },
    "language_info": {
      "name": "python"
    }
  },
  "cells": [
    {
      "cell_type": "markdown",
      "source": [
        "### Quiz 4\n"
      ],
      "metadata": {
        "id": "XzZLFnEb937a"
      }
    },
    {
      "cell_type": "code",
      "execution_count": null,
      "metadata": {
        "id": "MB5c2proI5y6"
      },
      "outputs": [],
      "source": [
        "Question 1 - Why do you use coefficient of correlation, instead of covariance, when calculating the association between two random variables?\n",
        "# answer: Covariance can be affected by the variance of individual variables, but coefficient of correlation is rescaled by variance of both variables\n",
        "\n",
        "Question 2 - What is the range and interpretation of coefficient of correlation?\n",
        "# answer: From -1 to 1, -1 means perfect negative linear relationship and 1 means perfect positive linear relationship\n",
        "\n",
        "Question 3 - Is LSTAT a significant predictor of MEDV at significance level 0.05?\n",
        "# answer: Yes, because the p value of b_1 is smaller than 0.05\n",
        "\n",
        "Question 4 - What is the percentage of variation explained by the model?\n",
        "# answer: 0.54\n",
        "\n",
        "Question 5 - How to check if a linear regression model violates the independence assumption?\n",
        "# answer: Durbin Watson test\n",
        "\n",
        "Question 6 - If any of the assumptions of linear regression model are violated, we cannot use this model to make prediction.\n",
        "# answer: False\n",
        "\n",
        "Question 7 - We have a variable ‘formula’ which store the names of predictors and target. \n",
        "How should you modify this ‘formula’ if you want to drop the predictor ‘daxi’?\n",
        "# answer: formula = ‘spy~aord+cac40+nikkei+dji’\n",
        "\n",
        "Question 8 - What is the most significance predictor for ‘SPY’?\n",
        "# answer: arod\n",
        "\n",
        "Question 9 - What does it mean if you have a strategy with maximum drawdown of 3%?\n",
        "# answer: During the trading period, the maximum gain from the previous peak of your portfolio value is 3%\n",
        "\n",
        "Question 10 - How can you check the consistency of your trading strategy?\n",
        "# answer: Define some metric for evaluating your strategy, eg Sharpe Ratio, maximum drawdown. \n",
        "# Then split your data into train set and test set and check if your strategy can generate positive \n",
        "# return using both train set and test set."
      ]
    }
  ]
}