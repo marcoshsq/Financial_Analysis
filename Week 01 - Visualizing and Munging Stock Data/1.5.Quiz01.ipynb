{
  "nbformat": 4,
  "nbformat_minor": 0,
  "metadata": {
    "colab": {
      "name": "Quiz 1.ipynb",
      "provenance": [],
      "collapsed_sections": []
    },
    "kernelspec": {
      "name": "python3",
      "display_name": "Python 3"
    },
    "language_info": {
      "name": "python"
    }
  },
  "cells": [
    {
      "cell_type": "markdown",
      "source": [
        "### Quiz 1\n"
      ],
      "metadata": {
        "id": "XzZLFnEb937a"
      }
    },
    {
      "cell_type": "code",
      "execution_count": null,
      "metadata": {
        "id": "MB5c2proI5y6"
      },
      "outputs": [],
      "source": [
        "Question 01 - Which of the following library has DataFrame object?\n",
        "# answer: Pandas\n",
        "\n",
        "Question 2 - Which of the following is the correct way to import a library, eg Pandas?\n",
        "# answer: import pandas as pd\n",
        "\n",
        "Question 3 - What is the method of DataFrame object to import a csv file?\n",
        "# answer: from_csv()\n",
        "\n",
        "Question 4 - Which of the following attributes of a DataFrame return a list of column names of this DataFrame?\n",
        "# answer: columns\n",
        "\n",
        "Question 5 - Which of the following can slice ‘Close’ from ‘2015-01-01’ to \n",
        "‘2016-12-31’ from data, which is a DataFrame object?\n",
        "# answer: data.loc[‘2015-01-01’:’2016-12-31’, ‘Close’]\n",
        "\n",
        "Question 6 - What is the method of DataFrame to plot a line chart?\n",
        "# answer: plot()\n",
        "\n",
        "Question 7 - Suppose you have a DataFrame - data,  which contains columns ‘Open’, ‘High’, \n",
        "‘Low’, ‘Close’, ‘Adj Close’ and ‘Volume’. What does data[[‘Open’, ‘Low’]] return?\n",
        "# answer: Columns ‘Open’ and ‘Low’ \n",
        "\n",
        "Question 8 - Suppose you have a DataFrame ms , which contains the daily data \n",
        "of  ‘Open’, ‘High’, ‘Low’, ‘Close’, ‘Adj Close’ and ‘Volume’ of Microsoft's stock.\n",
        "\n",
        "Which of the following syntax calculates the Price difference, \n",
        "(ie ‘Close’ of tomorrow – ‘Close’ of today)?\n",
        "# answer: ms[‘Close’].shift(1) – ms[‘Close’].shift(1)\n",
        "\n",
        "Question 9 - Suppose you have a DataFrame - ms , which contains the daily data\n",
        "of  ‘Open’, ‘High’, ‘Low’, ‘Close’, ‘Adj Close’ and ‘Volumn’ of Microsoft's stock.\n",
        "What is the method of DataFrame to calculate the 60 days moving average?\n",
        "# answer: rolling(60).mean()  \n",
        "\n",
        "Question 10 - Which of the following idea(s) is/are correct to the simple trading strategy that we introduced in the lecture video?\n",
        "\n",
        "# answer: a) If fast signal is larger than slow signal, this indicates an upward trend at the current moment;\n",
        "# b) Use longer moving average as slow signal and shorter moving average as fast signal."
      ]
    }
  ]
}